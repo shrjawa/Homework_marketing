{
 "cells": [
  {
   "cell_type": "code",
   "execution_count": 5,
   "metadata": {},
   "outputs": [],
   "source": [
    "import pandas as pd\n",
    "import numpy as np\n",
    "import requests\n",
    "import io"
   ]
  },
  {
   "cell_type": "code",
   "execution_count": 42,
   "metadata": {},
   "outputs": [],
   "source": [
    "from sklearn.model_selection import train_test_split\n",
    "from sklearn.ensemble import RandomForestClassifier\n",
    "from sklearn.tree import DecisionTreeClassifier\n",
    "from xgboost import XGBClassifier\n",
    "from sklearn.metrics import confusion_matrix, accuracy_score, precision_score, recall_score\n",
    "from sklearn.model_selection import GridSearchCV, RandomizedSearchCV"
   ]
  },
  {
   "cell_type": "code",
   "execution_count": 33,
   "metadata": {},
   "outputs": [],
   "source": [
    "url=\"https://raw.githubusercontent.com/timcsmith/MIS536-Public/master/Data/UniversalBank.csv\"\n",
    "s=requests.get(url).content\n",
    "band_df=pd.read_csv(io.StringIO(s.decode('utf-8')))"
   ]
  },
  {
   "cell_type": "code",
   "execution_count": 34,
   "metadata": {},
   "outputs": [
    {
     "data": {
      "text/html": [
       "<div>\n",
       "<style scoped>\n",
       "    .dataframe tbody tr th:only-of-type {\n",
       "        vertical-align: middle;\n",
       "    }\n",
       "\n",
       "    .dataframe tbody tr th {\n",
       "        vertical-align: top;\n",
       "    }\n",
       "\n",
       "    .dataframe thead th {\n",
       "        text-align: right;\n",
       "    }\n",
       "</style>\n",
       "<table border=\"1\" class=\"dataframe\">\n",
       "  <thead>\n",
       "    <tr style=\"text-align: right;\">\n",
       "      <th></th>\n",
       "      <th>ID</th>\n",
       "      <th>Age</th>\n",
       "      <th>Experience</th>\n",
       "      <th>Income</th>\n",
       "      <th>ZIP Code</th>\n",
       "      <th>Family</th>\n",
       "      <th>CCAvg</th>\n",
       "      <th>Education</th>\n",
       "      <th>Mortgage</th>\n",
       "      <th>Personal Loan</th>\n",
       "      <th>Securities Account</th>\n",
       "      <th>CD Account</th>\n",
       "      <th>Online</th>\n",
       "      <th>CreditCard</th>\n",
       "    </tr>\n",
       "  </thead>\n",
       "  <tbody>\n",
       "    <tr>\n",
       "      <th>0</th>\n",
       "      <td>1</td>\n",
       "      <td>25</td>\n",
       "      <td>1</td>\n",
       "      <td>49</td>\n",
       "      <td>91107</td>\n",
       "      <td>4</td>\n",
       "      <td>1.6</td>\n",
       "      <td>1</td>\n",
       "      <td>0</td>\n",
       "      <td>0</td>\n",
       "      <td>1</td>\n",
       "      <td>0</td>\n",
       "      <td>0</td>\n",
       "      <td>0</td>\n",
       "    </tr>\n",
       "    <tr>\n",
       "      <th>1</th>\n",
       "      <td>2</td>\n",
       "      <td>45</td>\n",
       "      <td>19</td>\n",
       "      <td>34</td>\n",
       "      <td>90089</td>\n",
       "      <td>3</td>\n",
       "      <td>1.5</td>\n",
       "      <td>1</td>\n",
       "      <td>0</td>\n",
       "      <td>0</td>\n",
       "      <td>1</td>\n",
       "      <td>0</td>\n",
       "      <td>0</td>\n",
       "      <td>0</td>\n",
       "    </tr>\n",
       "    <tr>\n",
       "      <th>2</th>\n",
       "      <td>3</td>\n",
       "      <td>39</td>\n",
       "      <td>15</td>\n",
       "      <td>11</td>\n",
       "      <td>94720</td>\n",
       "      <td>1</td>\n",
       "      <td>1.0</td>\n",
       "      <td>1</td>\n",
       "      <td>0</td>\n",
       "      <td>0</td>\n",
       "      <td>0</td>\n",
       "      <td>0</td>\n",
       "      <td>0</td>\n",
       "      <td>0</td>\n",
       "    </tr>\n",
       "    <tr>\n",
       "      <th>3</th>\n",
       "      <td>4</td>\n",
       "      <td>35</td>\n",
       "      <td>9</td>\n",
       "      <td>100</td>\n",
       "      <td>94112</td>\n",
       "      <td>1</td>\n",
       "      <td>2.7</td>\n",
       "      <td>2</td>\n",
       "      <td>0</td>\n",
       "      <td>0</td>\n",
       "      <td>0</td>\n",
       "      <td>0</td>\n",
       "      <td>0</td>\n",
       "      <td>0</td>\n",
       "    </tr>\n",
       "    <tr>\n",
       "      <th>4</th>\n",
       "      <td>5</td>\n",
       "      <td>35</td>\n",
       "      <td>8</td>\n",
       "      <td>45</td>\n",
       "      <td>91330</td>\n",
       "      <td>4</td>\n",
       "      <td>1.0</td>\n",
       "      <td>2</td>\n",
       "      <td>0</td>\n",
       "      <td>0</td>\n",
       "      <td>0</td>\n",
       "      <td>0</td>\n",
       "      <td>0</td>\n",
       "      <td>1</td>\n",
       "    </tr>\n",
       "  </tbody>\n",
       "</table>\n",
       "</div>"
      ],
      "text/plain": [
       "   ID  Age  Experience  Income  ZIP Code  Family  CCAvg  Education  Mortgage  \\\n",
       "0   1   25           1      49     91107       4    1.6          1         0   \n",
       "1   2   45          19      34     90089       3    1.5          1         0   \n",
       "2   3   39          15      11     94720       1    1.0          1         0   \n",
       "3   4   35           9     100     94112       1    2.7          2         0   \n",
       "4   5   35           8      45     91330       4    1.0          2         0   \n",
       "\n",
       "   Personal Loan  Securities Account  CD Account  Online  CreditCard  \n",
       "0              0                   1           0       0           0  \n",
       "1              0                   1           0       0           0  \n",
       "2              0                   0           0       0           0  \n",
       "3              0                   0           0       0           0  \n",
       "4              0                   0           0       0           1  "
      ]
     },
     "execution_count": 34,
     "metadata": {},
     "output_type": "execute_result"
    }
   ],
   "source": [
    "band_df.head()"
   ]
  },
  {
   "cell_type": "code",
   "execution_count": 35,
   "metadata": {},
   "outputs": [
    {
     "data": {
      "text/plain": [
       "Index(['ID', 'Age', 'Experience', 'Income', 'ZIP Code', 'Family', 'CCAvg',\n",
       "       'Education', 'Mortgage', 'Personal Loan', 'Securities Account',\n",
       "       'CD Account', 'Online', 'CreditCard'],\n",
       "      dtype='object')"
      ]
     },
     "execution_count": 35,
     "metadata": {},
     "output_type": "execute_result"
    }
   ],
   "source": [
    "band_df.columns"
   ]
  },
  {
   "cell_type": "code",
   "execution_count": 36,
   "metadata": {},
   "outputs": [],
   "source": [
    "band_df=band_df.drop(['ID', 'Age', 'Experience', 'ZIP Code', 'Family', \n",
    "         'Securities Account',\n",
    "       'CD Account'],axis=1)"
   ]
  },
  {
   "cell_type": "code",
   "execution_count": 37,
   "metadata": {},
   "outputs": [
    {
     "data": {
      "text/html": [
       "<div>\n",
       "<style scoped>\n",
       "    .dataframe tbody tr th:only-of-type {\n",
       "        vertical-align: middle;\n",
       "    }\n",
       "\n",
       "    .dataframe tbody tr th {\n",
       "        vertical-align: top;\n",
       "    }\n",
       "\n",
       "    .dataframe thead th {\n",
       "        text-align: right;\n",
       "    }\n",
       "</style>\n",
       "<table border=\"1\" class=\"dataframe\">\n",
       "  <thead>\n",
       "    <tr style=\"text-align: right;\">\n",
       "      <th></th>\n",
       "      <th>Income</th>\n",
       "      <th>CCAvg</th>\n",
       "      <th>Education</th>\n",
       "      <th>Mortgage</th>\n",
       "      <th>Personal Loan</th>\n",
       "      <th>Online</th>\n",
       "      <th>CreditCard</th>\n",
       "    </tr>\n",
       "  </thead>\n",
       "  <tbody>\n",
       "    <tr>\n",
       "      <th>0</th>\n",
       "      <td>49</td>\n",
       "      <td>1.6</td>\n",
       "      <td>1</td>\n",
       "      <td>0</td>\n",
       "      <td>0</td>\n",
       "      <td>0</td>\n",
       "      <td>0</td>\n",
       "    </tr>\n",
       "    <tr>\n",
       "      <th>1</th>\n",
       "      <td>34</td>\n",
       "      <td>1.5</td>\n",
       "      <td>1</td>\n",
       "      <td>0</td>\n",
       "      <td>0</td>\n",
       "      <td>0</td>\n",
       "      <td>0</td>\n",
       "    </tr>\n",
       "    <tr>\n",
       "      <th>2</th>\n",
       "      <td>11</td>\n",
       "      <td>1.0</td>\n",
       "      <td>1</td>\n",
       "      <td>0</td>\n",
       "      <td>0</td>\n",
       "      <td>0</td>\n",
       "      <td>0</td>\n",
       "    </tr>\n",
       "    <tr>\n",
       "      <th>3</th>\n",
       "      <td>100</td>\n",
       "      <td>2.7</td>\n",
       "      <td>2</td>\n",
       "      <td>0</td>\n",
       "      <td>0</td>\n",
       "      <td>0</td>\n",
       "      <td>0</td>\n",
       "    </tr>\n",
       "    <tr>\n",
       "      <th>4</th>\n",
       "      <td>45</td>\n",
       "      <td>1.0</td>\n",
       "      <td>2</td>\n",
       "      <td>0</td>\n",
       "      <td>0</td>\n",
       "      <td>0</td>\n",
       "      <td>1</td>\n",
       "    </tr>\n",
       "  </tbody>\n",
       "</table>\n",
       "</div>"
      ],
      "text/plain": [
       "   Income  CCAvg  Education  Mortgage  Personal Loan  Online  CreditCard\n",
       "0      49    1.6          1         0              0       0           0\n",
       "1      34    1.5          1         0              0       0           0\n",
       "2      11    1.0          1         0              0       0           0\n",
       "3     100    2.7          2         0              0       0           0\n",
       "4      45    1.0          2         0              0       0           1"
      ]
     },
     "execution_count": 37,
     "metadata": {},
     "output_type": "execute_result"
    }
   ],
   "source": [
    "band_df.head()"
   ]
  },
  {
   "cell_type": "code",
   "execution_count": 39,
   "metadata": {},
   "outputs": [],
   "source": [
    "X=band_df.drop(['Personal Loan'],axis=1)\n",
    "y=band_df.iloc[:,4]\n",
    "train_X, valid_X, train_y, valid_y = train_test_split(X,y, test_size=0.3, random_state=1)"
   ]
  },
  {
   "cell_type": "code",
   "execution_count": 43,
   "metadata": {},
   "outputs": [
    {
     "data": {
      "text/plain": [
       "DecisionTreeClassifier(random_state=1)"
      ]
     },
     "execution_count": 43,
     "metadata": {},
     "output_type": "execute_result"
    }
   ],
   "source": [
    "dtree=DecisionTreeClassifier(random_state=1)\n",
    "dtree.fit(train_X, train_y)"
   ]
  },
  {
   "cell_type": "code",
   "execution_count": 44,
   "metadata": {},
   "outputs": [
    {
     "name": "stdout",
     "output_type": "stream",
     "text": [
      "Confusion Matrix:  [[1314   37]\n",
      " [  39  110]]\n",
      "Accuracy score 0.9493333333333334\n",
      "Precision score 0.7482993197278912\n",
      "Recall score 0.738255033557047\n"
     ]
    }
   ],
   "source": [
    "validation_predictions = dtree.predict(valid_X)\n",
    "\n",
    "print('Confusion Matrix: ', confusion_matrix(valid_y, validation_predictions))\n",
    "print('Accuracy score', accuracy_score(valid_y, validation_predictions))\n",
    "print('Precision score', precision_score(valid_y, validation_predictions))\n",
    "print('Recall score', recall_score(valid_y, validation_predictions))"
   ]
  },
  {
   "cell_type": "code",
   "execution_count": 45,
   "metadata": {},
   "outputs": [],
   "source": [
    "criterion = ['gini', 'entropy']\n",
    "max_depth = [int(x) for x in np.linspace(5, 200, num = 40)]\n",
    "max_depth.append(None)\n",
    "min_samples_split = [1, 3, 5, 8, 10, 15]\n",
    "min_samples_leaf = [1, 2, 3, 4]\n",
    "max_leaf_nodes = [None]\n",
    "min_impurity_decrease = [0.000, 0.0005, 0.001, 0.005, 0.01]\n",
    "param_grid_random = { 'criterion': criterion,\n",
    "                      'max_depth': max_depth,\n",
    "                      'min_samples_split': min_samples_split,\n",
    "                      'min_samples_leaf' : min_samples_leaf,\n",
    "                      'max_leaf_nodes' : max_leaf_nodes,\n",
    "                      'min_impurity_decrease' : min_impurity_decrease,\n",
    "                     }"
   ]
  },
  {
   "cell_type": "code",
   "execution_count": 47,
   "metadata": {},
   "outputs": [
    {
     "name": "stdout",
     "output_type": "stream",
     "text": [
      "Fitting 3 folds for each of 100 candidates, totalling 300 fits\n"
     ]
    },
    {
     "name": "stderr",
     "output_type": "stream",
     "text": [
      "[Parallel(n_jobs=-1)]: Using backend LokyBackend with 4 concurrent workers.\n",
      "[Parallel(n_jobs=-1)]: Done  38 tasks      | elapsed:    2.0s\n"
     ]
    },
    {
     "name": "stdout",
     "output_type": "stream",
     "text": [
      "Best parameters found:  {'min_samples_split': 10, 'min_samples_leaf': 2, 'min_impurity_decrease': 0.005, 'max_leaf_nodes': None, 'max_depth': 80, 'criterion': 'entropy'}\n"
     ]
    },
    {
     "name": "stderr",
     "output_type": "stream",
     "text": [
      "[Parallel(n_jobs=-1)]: Done 300 out of 300 | elapsed:    2.8s finished\n"
     ]
    }
   ],
   "source": [
    "dtree_default = DecisionTreeClassifier()\n",
    "randomSearch = RandomizedSearchCV(estimator = dtree_default, param_distributions = param_grid_random, n_iter = 100, cv = 3, verbose=2, random_state=42, n_jobs = -1)\n",
    "randomSearch.fit(train_X, train_y)\n",
    "bestRandomModel = randomSearch.best_estimator_\n",
    "print('Best parameters found: ', randomSearch.best_params_)"
   ]
  },
  {
   "cell_type": "code",
   "execution_count": 48,
   "metadata": {},
   "outputs": [
    {
     "name": "stdout",
     "output_type": "stream",
     "text": [
      "Accuracy Score:  0.9653333333333334\n",
      "Precision Score:  0.944954128440367\n",
      "Recall Score:  0.6912751677852349\n"
     ]
    }
   ],
   "source": [
    "validation_predictions = bestRandomModel.predict(valid_X)\n",
    "print('Accuracy Score: ', accuracy_score(valid_y, validation_predictions))\n",
    "print('Precision Score: ', precision_score(valid_y, validation_predictions))\n",
    "print('Recall Score: ', recall_score(valid_y, validation_predictions))"
   ]
  },
  {
   "cell_type": "code",
   "execution_count": 49,
   "metadata": {},
   "outputs": [],
   "source": [
    "param_grid = {\n",
    "              'min_samples_split': [1, 3, 5, 7, 9,10,12,15],  \n",
    "              'min_samples_leaf': [1, 2, 3, 4, 5],\n",
    "              'min_impurity_decrease': [0.0003, 0.0005, 0.0008, 0.001, 0.002],\n",
    "              'max_leaf_nodes': [None], \n",
    "              'max_depth': [75,77,80,83,85],\n",
    "              'criterion': ['entropy'],\n",
    "              }"
   ]
  },
  {
   "cell_type": "code",
   "execution_count": 50,
   "metadata": {},
   "outputs": [
    {
     "name": "stdout",
     "output_type": "stream",
     "text": [
      "Fitting 3 folds for each of 1000 candidates, totalling 3000 fits\n"
     ]
    },
    {
     "name": "stderr",
     "output_type": "stream",
     "text": [
      "[Parallel(n_jobs=-1)]: Using backend LokyBackend with 4 concurrent workers.\n",
      "[Parallel(n_jobs=-1)]: Done  38 tasks      | elapsed:    1.7s\n",
      "[Parallel(n_jobs=-1)]: Done 1772 tasks      | elapsed:    6.1s\n"
     ]
    },
    {
     "name": "stdout",
     "output_type": "stream",
     "text": [
      "Best parameters found:  {'criterion': 'entropy', 'max_depth': 75, 'max_leaf_nodes': None, 'min_impurity_decrease': 0.002, 'min_samples_leaf': 1, 'min_samples_split': 3}\n"
     ]
    },
    {
     "name": "stderr",
     "output_type": "stream",
     "text": [
      "[Parallel(n_jobs=-1)]: Done 3000 out of 3000 | elapsed:    8.6s finished\n"
     ]
    }
   ],
   "source": [
    "dtree_tuned = DecisionTreeClassifier()\n",
    "gridSearch = GridSearchCV(estimator = dtree_tuned, param_grid=param_grid, cv = 3, verbose=2,  n_jobs = -1)\n",
    "gridSearch.fit(train_X, train_y)\n",
    "bestGridModel = gridSearch.best_estimator_\n",
    "print('Best parameters found: ', gridSearch.best_params_)"
   ]
  },
  {
   "cell_type": "code",
   "execution_count": 53,
   "metadata": {},
   "outputs": [
    {
     "name": "stdout",
     "output_type": "stream",
     "text": [
      "accuracy score: 0.9653333333333334\n",
      "precision score: 0.944954128440367\n",
      "recall: 0.6912751677852349\n"
     ]
    }
   ],
   "source": [
    "validation_predictions = bestGridModel.predict(valid_X)\n",
    "print('accuracy score:',accuracy_score(valid_y, validation_predictions))\n",
    "print('precision score:',precision_score(valid_y, validation_predictions))\n",
    "print('recall:',recall_score(valid_y, validation_predictions))"
   ]
  },
  {
   "cell_type": "code",
   "execution_count": 54,
   "metadata": {},
   "outputs": [],
   "source": [
    "#random forest"
   ]
  },
  {
   "cell_type": "code",
   "execution_count": 55,
   "metadata": {},
   "outputs": [
    {
     "data": {
      "text/plain": [
       "RandomForestClassifier(random_state=1)"
      ]
     },
     "execution_count": 55,
     "metadata": {},
     "output_type": "execute_result"
    }
   ],
   "source": [
    "forest=RandomForestClassifier(random_state=1)\n",
    "forest.fit(train_X, train_y)"
   ]
  },
  {
   "cell_type": "code",
   "execution_count": 56,
   "metadata": {},
   "outputs": [
    {
     "name": "stdout",
     "output_type": "stream",
     "text": [
      "[[1339   12]\n",
      " [  44  105]]\n",
      "0.9626666666666667\n",
      "0.8974358974358975\n",
      "0.7046979865771812\n"
     ]
    }
   ],
   "source": [
    "validation_predictions = forest.predict(valid_X)\n",
    "\n",
    "print(confusion_matrix(valid_y, validation_predictions))\n",
    "print(accuracy_score(valid_y, validation_predictions))\n",
    "print(precision_score(valid_y, validation_predictions))\n",
    "print(recall_score(valid_y, validation_predictions))"
   ]
  },
  {
   "cell_type": "code",
   "execution_count": 58,
   "metadata": {},
   "outputs": [],
   "source": [
    "n_estimators = [int(x) for x in np.linspace(start = 100, stop = 1000, num = 10)]\n",
    "criterion = ['gini', 'entropy']\n",
    "max_depth = [int(x) for x in np.linspace(10, 110, num = 11)]\n",
    "max_depth.append(None)\n",
    "min_samples_split = [2,5,10]\n",
    "min_samples_leaf = [1, 2,  4]\n",
    "max_features = ['auto']\n",
    "max_leaf_nodes = [None]\n",
    "min_impurity_decrease = [0.000, 0.0005, 0.001, 0.005, 0.01]\n",
    "bootstrap = [True]\n",
    "param_grid_random = {'n_estimators': n_estimators,\n",
    "                      'criterion': criterion,\n",
    "                      'max_depth': max_depth,\n",
    "                      'min_samples_split': min_samples_split,\n",
    "                      'min_samples_leaf' : min_samples_leaf,\n",
    "                      'max_features': max_features,\n",
    "                      'max_leaf_nodes' : max_leaf_nodes,\n",
    "                      'min_impurity_decrease' : min_impurity_decrease,\n",
    "                      'bootstrap': bootstrap,\n",
    "                     }"
   ]
  },
  {
   "cell_type": "code",
   "execution_count": 59,
   "metadata": {},
   "outputs": [
    {
     "name": "stdout",
     "output_type": "stream",
     "text": [
      "Fitting 3 folds for each of 300 candidates, totalling 900 fits\n"
     ]
    },
    {
     "name": "stderr",
     "output_type": "stream",
     "text": [
      "[Parallel(n_jobs=-1)]: Using backend LokyBackend with 4 concurrent workers.\n",
      "[Parallel(n_jobs=-1)]: Done  33 tasks      | elapsed:   14.6s\n",
      "[Parallel(n_jobs=-1)]: Done 154 tasks      | elapsed:   53.2s\n",
      "[Parallel(n_jobs=-1)]: Done 357 tasks      | elapsed:  2.1min\n",
      "[Parallel(n_jobs=-1)]: Done 640 tasks      | elapsed:  3.5min\n",
      "[Parallel(n_jobs=-1)]: Done 900 out of 900 | elapsed:  4.8min finished\n"
     ]
    },
    {
     "name": "stdout",
     "output_type": "stream",
     "text": [
      "Best parameters found:  {'n_estimators': 800, 'min_samples_split': 2, 'min_samples_leaf': 2, 'min_impurity_decrease': 0.0, 'max_leaf_nodes': None, 'max_features': 'auto', 'max_depth': 80, 'criterion': 'gini', 'bootstrap': True}\n"
     ]
    }
   ],
   "source": [
    "rf = RandomForestClassifier()\n",
    "randomSearch = RandomizedSearchCV(estimator = rf, param_distributions = param_grid_random, n_iter = 300, cv = 3, verbose=2, random_state=42, n_jobs = -1)\n",
    "randomSearch.fit(train_X, train_y)\n",
    "bestRandomModel = randomSearch.best_estimator_\n",
    "print('Best parameters found: ', randomSearch.best_params_)"
   ]
  },
  {
   "cell_type": "code",
   "execution_count": 60,
   "metadata": {},
   "outputs": [
    {
     "name": "stdout",
     "output_type": "stream",
     "text": [
      "Accuracy Score:  0.964\n",
      "Precision Score:  0.9357798165137615\n",
      "Recall Score:  0.6845637583892618\n"
     ]
    }
   ],
   "source": [
    "validation_predictions = bestRandomModel.predict(valid_X)\n",
    "print('Accuracy Score: ', accuracy_score(valid_y, validation_predictions))\n",
    "print('Precision Score: ', precision_score(valid_y, validation_predictions))\n",
    "print('Recall Score: ', recall_score(valid_y, validation_predictions)) "
   ]
  },
  {
   "cell_type": "code",
   "execution_count": 61,
   "metadata": {},
   "outputs": [],
   "source": [
    "param_grid = {'n_estimators': [700, 750, 800, 850, 900],\n",
    "              'min_samples_split': [1, 2, 3, 4, 5],  \n",
    "              'min_samples_leaf': [1, 2, 3],\n",
    "              'min_impurity_decrease': [0.000, 0.0005, 0.001, 0.0015, 0.002],\n",
    "              'max_leaf_nodes': [None], \n",
    "              'max_features': ['auto'], \n",
    "              'max_depth': [70, 75, 80, 85, 90],\n",
    "              'criterion': ['gini'],\n",
    "              'bootstrap': [True]}"
   ]
  },
  {
   "cell_type": "code",
   "execution_count": 62,
   "metadata": {},
   "outputs": [
    {
     "name": "stdout",
     "output_type": "stream",
     "text": [
      "Fitting 3 folds for each of 1875 candidates, totalling 5625 fits\n"
     ]
    },
    {
     "name": "stderr",
     "output_type": "stream",
     "text": [
      "[Parallel(n_jobs=-1)]: Using backend LokyBackend with 4 concurrent workers.\n",
      "[Parallel(n_jobs=-1)]: Done  33 tasks      | elapsed:   12.7s\n",
      "[Parallel(n_jobs=-1)]: Done 154 tasks      | elapsed:  1.2min\n",
      "[Parallel(n_jobs=-1)]: Done 357 tasks      | elapsed:  2.6min\n",
      "[Parallel(n_jobs=-1)]: Done 640 tasks      | elapsed:  4.5min\n",
      "[Parallel(n_jobs=-1)]: Done 1005 tasks      | elapsed:  6.9min\n",
      "[Parallel(n_jobs=-1)]: Done 1450 tasks      | elapsed: 10.2min\n",
      "[Parallel(n_jobs=-1)]: Done 1977 tasks      | elapsed: 13.3min\n",
      "[Parallel(n_jobs=-1)]: Done 2584 tasks      | elapsed: 17.0min\n",
      "[Parallel(n_jobs=-1)]: Done 3273 tasks      | elapsed: 21.6min\n",
      "[Parallel(n_jobs=-1)]: Done 4042 tasks      | elapsed: 26.9min\n",
      "[Parallel(n_jobs=-1)]: Done 4893 tasks      | elapsed: 32.0min\n",
      "[Parallel(n_jobs=-1)]: Done 5625 out of 5625 | elapsed: 36.9min finished\n"
     ]
    },
    {
     "name": "stdout",
     "output_type": "stream",
     "text": [
      "Best parameters found:  {'bootstrap': True, 'criterion': 'gini', 'max_depth': 75, 'max_features': 'auto', 'max_leaf_nodes': None, 'min_impurity_decrease': 0.0, 'min_samples_leaf': 2, 'min_samples_split': 5, 'n_estimators': 750}\n"
     ]
    }
   ],
   "source": [
    "rf = RandomForestClassifier()\n",
    "gridSearch = GridSearchCV(estimator = rf, param_grid=param_grid, cv = 3, verbose=2,  n_jobs = -1)\n",
    "gridSearch.fit(train_X, train_y)\n",
    "bestGridModel = gridSearch.best_estimator_\n",
    "print('Best parameters found: ', gridSearch.best_params_)"
   ]
  },
  {
   "cell_type": "code",
   "execution_count": 63,
   "metadata": {},
   "outputs": [
    {
     "name": "stdout",
     "output_type": "stream",
     "text": [
      "0.9646666666666667\n",
      "0.9363636363636364\n",
      "0.6912751677852349\n"
     ]
    }
   ],
   "source": [
    "\n",
    "validation_predictions = bestGridModel.predict(valid_X)\n",
    "print(accuracy_score(valid_y, validation_predictions))\n",
    "print(precision_score(valid_y, validation_predictions))\n",
    "print(recall_score(valid_y, validation_predictions))"
   ]
  },
  {
   "cell_type": "code",
   "execution_count": 64,
   "metadata": {},
   "outputs": [],
   "source": [
    "#XGBoost"
   ]
  },
  {
   "cell_type": "code",
   "execution_count": 65,
   "metadata": {},
   "outputs": [
    {
     "name": "stdout",
     "output_type": "stream",
     "text": [
      "[[1331   20]\n",
      " [  37  112]]\n",
      "0.962\n",
      "0.8484848484848485\n",
      "0.7516778523489933\n"
     ]
    }
   ],
   "source": [
    "xgboost=XGBClassifier(random_state=1)\n",
    "\n",
    "xgboost.fit(train_X, train_y)\n",
    "validation_predictions = xgboost.predict(valid_X)\n",
    "\n",
    "print(confusion_matrix(valid_y, validation_predictions))\n",
    "print(accuracy_score(valid_y, validation_predictions))\n",
    "print(precision_score(valid_y, validation_predictions))\n",
    "print(recall_score(valid_y, validation_predictions))"
   ]
  },
  {
   "cell_type": "code",
   "execution_count": 66,
   "metadata": {},
   "outputs": [],
   "source": [
    "n_estimators = [int(x) for x in np.linspace(start = 100, stop = 1000, num = 10)]\n",
    "learning_rate = [0.1, 0.2, 0.3, 0.4, 0.5]\n",
    "max_depth = [int(x) for x in np.linspace(1, 200, num = 199)]\n",
    "max_depth.append(None)\n",
    "param_grid_random = {'n_estimators': n_estimators,\n",
    "                      'max_depth': max_depth,\n",
    "                      'learning_rate': learning_rate,\n",
    "                     }"
   ]
  },
  {
   "cell_type": "code",
   "execution_count": 67,
   "metadata": {},
   "outputs": [
    {
     "name": "stdout",
     "output_type": "stream",
     "text": [
      "Fitting 3 folds for each of 300 candidates, totalling 900 fits\n"
     ]
    },
    {
     "name": "stderr",
     "output_type": "stream",
     "text": [
      "[Parallel(n_jobs=-1)]: Using backend LokyBackend with 4 concurrent workers.\n",
      "[Parallel(n_jobs=-1)]: Done  33 tasks      | elapsed:    9.0s\n",
      "[Parallel(n_jobs=-1)]: Done 154 tasks      | elapsed:   31.0s\n",
      "[Parallel(n_jobs=-1)]: Done 357 tasks      | elapsed:  1.2min\n",
      "[Parallel(n_jobs=-1)]: Done 640 tasks      | elapsed:  2.0min\n"
     ]
    },
    {
     "name": "stdout",
     "output_type": "stream",
     "text": [
      "Best parameters found:  {'n_estimators': 400, 'max_depth': 1, 'learning_rate': 0.3}\n"
     ]
    },
    {
     "name": "stderr",
     "output_type": "stream",
     "text": [
      "[Parallel(n_jobs=-1)]: Done 900 out of 900 | elapsed:  2.7min finished\n"
     ]
    }
   ],
   "source": [
    "xgb = XGBClassifier()\n",
    "randomSearch = RandomizedSearchCV(estimator = xgb, param_distributions = param_grid_random, n_iter = 300, cv = 3, verbose=2, random_state=42, n_jobs = -1)\n",
    "randomSearch.fit(train_X, train_y)\n",
    "bestRandomModel = randomSearch.best_estimator_\n",
    "print('Best parameters found: ', randomSearch.best_params_)"
   ]
  },
  {
   "cell_type": "code",
   "execution_count": 68,
   "metadata": {},
   "outputs": [
    {
     "name": "stdout",
     "output_type": "stream",
     "text": [
      "Accuracy Score:  0.9646666666666667\n",
      "Precision Score:  0.9363636363636364\n",
      "Recall Score:  0.6912751677852349\n"
     ]
    }
   ],
   "source": [
    "validation_predictions = bestRandomModel.predict(valid_X)\n",
    "print('Accuracy Score: ', accuracy_score(valid_y, validation_predictions))\n",
    "print('Precision Score: ', precision_score(valid_y, validation_predictions))\n",
    "print('Recall Score: ', recall_score(valid_y, validation_predictions))"
   ]
  },
  {
   "cell_type": "code",
   "execution_count": 69,
   "metadata": {},
   "outputs": [],
   "source": [
    "param_grid =  {'n_estimators': [380, 390, 395, 400, 405, 410, 420],\n",
    "                'max_depth': [1,2,3],\n",
    "                'learning_rate': [0.2, 0.25, 0.3, 0.35, 0.4],\n",
    "              }"
   ]
  },
  {
   "cell_type": "code",
   "execution_count": 70,
   "metadata": {},
   "outputs": [
    {
     "name": "stdout",
     "output_type": "stream",
     "text": [
      "Fitting 3 folds for each of 105 candidates, totalling 315 fits\n"
     ]
    },
    {
     "name": "stderr",
     "output_type": "stream",
     "text": [
      "[Parallel(n_jobs=-1)]: Using backend LokyBackend with 4 concurrent workers.\n",
      "[Parallel(n_jobs=-1)]: Done  33 tasks      | elapsed:    2.2s\n",
      "[Parallel(n_jobs=-1)]: Done 154 tasks      | elapsed:   11.5s\n"
     ]
    },
    {
     "name": "stdout",
     "output_type": "stream",
     "text": [
      "Best parameters found:  {'learning_rate': 0.35, 'max_depth': 1, 'n_estimators': 405}\n"
     ]
    },
    {
     "name": "stderr",
     "output_type": "stream",
     "text": [
      "[Parallel(n_jobs=-1)]: Done 315 out of 315 | elapsed:   24.3s finished\n"
     ]
    }
   ],
   "source": [
    "xgb = XGBClassifier()\n",
    "gridSearch = GridSearchCV(estimator = xgb, param_grid=param_grid, cv = 3, verbose=2,  n_jobs = -1)\n",
    "gridSearch.fit(train_X, train_y)\n",
    "bestGridModel = gridSearch.best_estimator_\n",
    "print('Best parameters found: ', gridSearch.best_params_)"
   ]
  },
  {
   "cell_type": "code",
   "execution_count": 71,
   "metadata": {},
   "outputs": [
    {
     "name": "stdout",
     "output_type": "stream",
     "text": [
      "0.9653333333333334\n",
      "0.9369369369369369\n",
      "0.697986577181208\n"
     ]
    }
   ],
   "source": [
    "validation_predictions = bestGridModel.predict(valid_X)\n",
    "print(accuracy_score(valid_y, validation_predictions))\n",
    "print(precision_score(valid_y, validation_predictions))\n",
    "print(recall_score(valid_y, validation_predictions))"
   ]
  },
  {
   "cell_type": "code",
   "execution_count": 72,
   "metadata": {},
   "outputs": [],
   "source": [
    "#Decision tree\n",
    "#accuracy score: 0.9653333333333334\n",
    "#precision score: 0.944954128440367\n",
    "#recall: 0.6912751677852349\n",
    "\n",
    "#random forest\n",
    "#accuracy: 0.9646666666666667\n",
    "#precision: 0.9363636363636364\n",
    "#recall: 0.6912751677852349\n",
    "\n",
    "#XGBoost\n",
    "#accuracy: 0.9653333333333334\n",
    "#precision: 0.9369369369369369\n",
    "#recall: 0.697986577181208\n"
   ]
  },
  {
   "cell_type": "code",
   "execution_count": 73,
   "metadata": {},
   "outputs": [],
   "source": [
    "#It seems all three models even with parametre tuning I could get accuracy as much as 96.5%\n",
    "#Precision max I can see is with decision tree model which is 94.49%\n",
    "#Recall score  with XGboost is highest"
   ]
  },
  {
   "cell_type": "code",
   "execution_count": 74,
   "metadata": {},
   "outputs": [],
   "source": [
    "#Looking at all these findings I can say which model bank can use\n",
    "#If I were to only look at accuracy as parametre for model selection then it would be Decision Tree or XGBoost\n",
    "#Based on precision Decision tree is best by small percent.\n",
    "#So Overall I would recommend Decision Tree for bank to use.\n",
    "#All of this I have obtained is based on predictors I chose based on previous assignments\n",
    "#So these results can be improved if I include more predictors.\n",
    "#It is also possible to get better model if I were to tune more but it takes lot longer with that.\n",
    "\n",
    "#For now with models I trained and deployed for test set I can decision tree as best model for bank\n",
    "#Also it is possible to train models for better precision then it might be different result but as \n",
    "# in class 8 notebook I chose accuracy to improve by model.\n",
    "\n"
   ]
  },
  {
   "cell_type": "code",
   "execution_count": null,
   "metadata": {},
   "outputs": [],
   "source": []
  }
 ],
 "metadata": {
  "kernelspec": {
   "display_name": "Python 3",
   "language": "python",
   "name": "python3"
  },
  "language_info": {
   "codemirror_mode": {
    "name": "ipython",
    "version": 3
   },
   "file_extension": ".py",
   "mimetype": "text/x-python",
   "name": "python",
   "nbconvert_exporter": "python",
   "pygments_lexer": "ipython3",
   "version": "3.7.7"
  }
 },
 "nbformat": 4,
 "nbformat_minor": 4
}
